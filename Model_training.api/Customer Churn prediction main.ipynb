{
 "cells": [
  {
   "cell_type": "markdown",
   "id": "3c5cec1b-1dd4-4920-91ae-4dbebc5a3757",
   "metadata": {},
   "source": [
    "# Customer Churn prediction ( Machine Learning Project )\n",
    "\n",
    "@ Jonit John \n",
    "#### 30 - 10 - 2023"
   ]
  },
  {
   "cell_type": "markdown",
   "id": "a04b6b72-a454-41d9-944e-144c1ab0e16a",
   "metadata": {},
   "source": [
    "## Problem Statement \n",
    "\n",
    "Here we have telecom company offering mobile services to there customer.\n",
    "They have noticed that some long time customers leaving for compititors.\n",
    "We need to identify \n",
    "\n",
    "- Why this problem happening ?\n",
    "- How we can prevent this problem ?\n",
    "- How much churn rate is going to happen ?\n",
    "\n",
    "## Importance of customer churn prediction \n",
    "\n",
    "- Predicting and analysing customer churn is a crucial for telecom company\n",
    "- It allows them to identify which customer at rick of leaving and take step to retain them\n",
    "- By doing so , we can reduce revenue loss, maintain customer loyalty and even gain a compatitve edge in the market "
   ]
  },
  {
   "cell_type": "markdown",
   "id": "4ff86741-fe5f-46bd-b25a-b025bbbf1345",
   "metadata": {},
   "source": [
    "## Importing Libraries "
   ]
  },
  {
   "cell_type": "code",
   "execution_count": 81,
   "id": "43c51b68-4fd2-4be8-a46a-070517853caa",
   "metadata": {},
   "outputs": [],
   "source": [
    "import pandas as pd\n",
    "import numpy as np \n",
    "import seaborn as sns\n",
    "import matplotlib.pyplot as plt\n",
    "%matplotlib inline \n",
    "\n",
    "from sklearn.model_selection import train_test_split, cross_val_predict, cross_val_score\n",
    "from sklearn.preprocessing import StandardScaler\n",
    "from sklearn.metrics import accuracy_score, classification_report, confusion_matrix, recall_score, f1_score\n",
    "from sklearn.metrics import roc_curve, auc\n",
    "from sklearn.metrics import precision_recall_curve\n",
    "from sklearn.model_selection import GridSearchCV\n",
    "\n",
    "\n",
    "from sklearn.ensemble import RandomForestClassifier\n",
    "from xgboost import XGBClassifier"
   ]
  },
  {
   "cell_type": "markdown",
   "id": "373f607e-e5b7-4632-a735-7ca8ffeb7a29",
   "metadata": {},
   "source": [
    "## Load and explore dataset"
   ]
  },
  {
   "cell_type": "code",
   "execution_count": 44,
   "id": "b558fd21-72c8-4e2c-8b48-e76fc42ff83d",
   "metadata": {},
   "outputs": [],
   "source": [
    "df=pd.read_csv('churn-bigml-20.csv')"
   ]
  },
  {
   "cell_type": "code",
   "execution_count": 45,
   "id": "d2d55c7d-f852-4ba6-ad84-62dbb0707ad6",
   "metadata": {},
   "outputs": [
    {
     "data": {
      "text/html": [
       "<div>\n",
       "<style scoped>\n",
       "    .dataframe tbody tr th:only-of-type {\n",
       "        vertical-align: middle;\n",
       "    }\n",
       "\n",
       "    .dataframe tbody tr th {\n",
       "        vertical-align: top;\n",
       "    }\n",
       "\n",
       "    .dataframe thead th {\n",
       "        text-align: right;\n",
       "    }\n",
       "</style>\n",
       "<table border=\"1\" class=\"dataframe\">\n",
       "  <thead>\n",
       "    <tr style=\"text-align: right;\">\n",
       "      <th></th>\n",
       "      <th>State</th>\n",
       "      <th>Account length</th>\n",
       "      <th>Area code</th>\n",
       "      <th>International plan</th>\n",
       "      <th>Voice mail plan</th>\n",
       "      <th>Number vmail messages</th>\n",
       "      <th>Total day minutes</th>\n",
       "      <th>Total day calls</th>\n",
       "      <th>Total day charge</th>\n",
       "      <th>Total eve minutes</th>\n",
       "      <th>Total eve calls</th>\n",
       "      <th>Total eve charge</th>\n",
       "      <th>Total night minutes</th>\n",
       "      <th>Total night calls</th>\n",
       "      <th>Total night charge</th>\n",
       "      <th>Total intl minutes</th>\n",
       "      <th>Total intl calls</th>\n",
       "      <th>Total intl charge</th>\n",
       "      <th>Customer service calls</th>\n",
       "      <th>Churn</th>\n",
       "    </tr>\n",
       "  </thead>\n",
       "  <tbody>\n",
       "    <tr>\n",
       "      <th>0</th>\n",
       "      <td>LA</td>\n",
       "      <td>117</td>\n",
       "      <td>408</td>\n",
       "      <td>No</td>\n",
       "      <td>No</td>\n",
       "      <td>0</td>\n",
       "      <td>184.5</td>\n",
       "      <td>97</td>\n",
       "      <td>31.37</td>\n",
       "      <td>351.6</td>\n",
       "      <td>80</td>\n",
       "      <td>29.89</td>\n",
       "      <td>215.8</td>\n",
       "      <td>90</td>\n",
       "      <td>9.71</td>\n",
       "      <td>8.7</td>\n",
       "      <td>4</td>\n",
       "      <td>2.35</td>\n",
       "      <td>1</td>\n",
       "      <td>False</td>\n",
       "    </tr>\n",
       "    <tr>\n",
       "      <th>1</th>\n",
       "      <td>IN</td>\n",
       "      <td>65</td>\n",
       "      <td>415</td>\n",
       "      <td>No</td>\n",
       "      <td>No</td>\n",
       "      <td>0</td>\n",
       "      <td>129.1</td>\n",
       "      <td>137</td>\n",
       "      <td>21.95</td>\n",
       "      <td>228.5</td>\n",
       "      <td>83</td>\n",
       "      <td>19.42</td>\n",
       "      <td>208.8</td>\n",
       "      <td>111</td>\n",
       "      <td>9.40</td>\n",
       "      <td>12.7</td>\n",
       "      <td>6</td>\n",
       "      <td>3.43</td>\n",
       "      <td>4</td>\n",
       "      <td>True</td>\n",
       "    </tr>\n",
       "    <tr>\n",
       "      <th>2</th>\n",
       "      <td>NY</td>\n",
       "      <td>161</td>\n",
       "      <td>415</td>\n",
       "      <td>No</td>\n",
       "      <td>No</td>\n",
       "      <td>0</td>\n",
       "      <td>332.9</td>\n",
       "      <td>67</td>\n",
       "      <td>56.59</td>\n",
       "      <td>317.8</td>\n",
       "      <td>97</td>\n",
       "      <td>27.01</td>\n",
       "      <td>160.6</td>\n",
       "      <td>128</td>\n",
       "      <td>7.23</td>\n",
       "      <td>5.4</td>\n",
       "      <td>9</td>\n",
       "      <td>1.46</td>\n",
       "      <td>4</td>\n",
       "      <td>True</td>\n",
       "    </tr>\n",
       "    <tr>\n",
       "      <th>3</th>\n",
       "      <td>SC</td>\n",
       "      <td>111</td>\n",
       "      <td>415</td>\n",
       "      <td>No</td>\n",
       "      <td>No</td>\n",
       "      <td>0</td>\n",
       "      <td>110.4</td>\n",
       "      <td>103</td>\n",
       "      <td>18.77</td>\n",
       "      <td>137.3</td>\n",
       "      <td>102</td>\n",
       "      <td>11.67</td>\n",
       "      <td>189.6</td>\n",
       "      <td>105</td>\n",
       "      <td>8.53</td>\n",
       "      <td>7.7</td>\n",
       "      <td>6</td>\n",
       "      <td>2.08</td>\n",
       "      <td>2</td>\n",
       "      <td>False</td>\n",
       "    </tr>\n",
       "    <tr>\n",
       "      <th>4</th>\n",
       "      <td>HI</td>\n",
       "      <td>49</td>\n",
       "      <td>510</td>\n",
       "      <td>No</td>\n",
       "      <td>No</td>\n",
       "      <td>0</td>\n",
       "      <td>119.3</td>\n",
       "      <td>117</td>\n",
       "      <td>20.28</td>\n",
       "      <td>215.1</td>\n",
       "      <td>109</td>\n",
       "      <td>18.28</td>\n",
       "      <td>178.7</td>\n",
       "      <td>90</td>\n",
       "      <td>8.04</td>\n",
       "      <td>11.1</td>\n",
       "      <td>1</td>\n",
       "      <td>3.00</td>\n",
       "      <td>1</td>\n",
       "      <td>False</td>\n",
       "    </tr>\n",
       "  </tbody>\n",
       "</table>\n",
       "</div>"
      ],
      "text/plain": [
       "  State  Account length  Area code  ... Total intl charge Customer service calls  Churn\n",
       "0    LA             117        408  ...              2.35                      1  False\n",
       "1    IN              65        415  ...              3.43                      4   True\n",
       "2    NY             161        415  ...              1.46                      4   True\n",
       "3    SC             111        415  ...              2.08                      2  False\n",
       "4    HI              49        510  ...              3.00                      1  False\n",
       "\n",
       "[5 rows x 20 columns]"
      ]
     },
     "execution_count": 45,
     "metadata": {},
     "output_type": "execute_result"
    }
   ],
   "source": [
    "df.head()"
   ]
  },
  {
   "cell_type": "markdown",
   "id": "68b8ab7e-d125-4291-88b4-87f5cb8cd820",
   "metadata": {},
   "source": [
    "## Data overview "
   ]
  },
  {
   "cell_type": "code",
   "execution_count": 8,
   "id": "0b5a355b-2bbd-4da5-8848-18616d9c0ed5",
   "metadata": {},
   "outputs": [],
   "source": [
    "def dataoverview(df):\n",
    "    print('Data Overview\\n')\n",
    "    print('Number of rows: \\n',df.shape[0])\n",
    "    print('Number of features: \\n',df.shape[1])\n",
    "    print('List of features: \\n',df.columns.tolist())\n",
    "    print('Number of categorical features: \\n',len(df.select_dtypes(include=['object']).columns))\n",
    "    print('Number of numberical features: \\n',len(df.select_dtypes(exclude=['object']).columns))\n",
    "    print('Descriptive for of the data: \\n',df.describe())\n",
    "    print(df.info())\n",
    "    if df.isnull().sum().sum() == 0:\n",
    "        print('Number of missing values: \\n',df.isnull().sum().sum())\n",
    "    else:\n",
    "        print('Number of missing values in each columns: \\n',df.isnull().sum())\n",
    "    print('Number of unique values: \\n',df.nunique())"
   ]
  },
  {
   "cell_type": "code",
   "execution_count": 9,
   "id": "504cbf05-d5f1-4446-8374-8d3c0e7e0f9b",
   "metadata": {},
   "outputs": [
    {
     "name": "stdout",
     "output_type": "stream",
     "text": [
      "Data Overview\n",
      "\n",
      "Number of rows: \n",
      " 667\n",
      "Number of features: \n",
      " 20\n",
      "List of features: \n",
      " ['State', 'Account length', 'Area code', 'International plan', 'Voice mail plan', 'Number vmail messages', 'Total day minutes', 'Total day calls', 'Total day charge', 'Total eve minutes', 'Total eve calls', 'Total eve charge', 'Total night minutes', 'Total night calls', 'Total night charge', 'Total intl minutes', 'Total intl calls', 'Total intl charge', 'Customer service calls', 'Churn']\n",
      "Number of categorical features: \n",
      " 3\n",
      "Number of numberical features: \n",
      " 17\n",
      "Descriptive for of the data: \n",
      "        Account length   Area code  Number vmail messages  ...  Total intl calls  Total intl charge  Customer service calls\n",
      "count      667.000000  667.000000             667.000000  ...        667.000000         667.000000              667.000000\n",
      "mean       102.841079  436.157421               8.407796  ...          4.527736           2.764948                1.563718\n",
      "std         40.819480   41.783305              13.994480  ...          2.482442           0.758167                1.333357\n",
      "min          1.000000  408.000000               0.000000  ...          0.000000           0.000000                0.000000\n",
      "25%         76.000000  408.000000               0.000000  ...          3.000000           2.320000                1.000000\n",
      "50%        102.000000  415.000000               0.000000  ...          4.000000           2.840000                1.000000\n",
      "75%        128.000000  415.000000              20.000000  ...          6.000000           3.255000                2.000000\n",
      "max        232.000000  510.000000              51.000000  ...         18.000000           4.940000                8.000000\n",
      "\n",
      "[8 rows x 16 columns]\n",
      "<class 'pandas.core.frame.DataFrame'>\n",
      "RangeIndex: 667 entries, 0 to 666\n",
      "Data columns (total 20 columns):\n",
      " #   Column                  Non-Null Count  Dtype  \n",
      "---  ------                  --------------  -----  \n",
      " 0   State                   667 non-null    object \n",
      " 1   Account length          667 non-null    int64  \n",
      " 2   Area code               667 non-null    int64  \n",
      " 3   International plan      667 non-null    object \n",
      " 4   Voice mail plan         667 non-null    object \n",
      " 5   Number vmail messages   667 non-null    int64  \n",
      " 6   Total day minutes       667 non-null    float64\n",
      " 7   Total day calls         667 non-null    int64  \n",
      " 8   Total day charge        667 non-null    float64\n",
      " 9   Total eve minutes       667 non-null    float64\n",
      " 10  Total eve calls         667 non-null    int64  \n",
      " 11  Total eve charge        667 non-null    float64\n",
      " 12  Total night minutes     667 non-null    float64\n",
      " 13  Total night calls       667 non-null    int64  \n",
      " 14  Total night charge      667 non-null    float64\n",
      " 15  Total intl minutes      667 non-null    float64\n",
      " 16  Total intl calls        667 non-null    int64  \n",
      " 17  Total intl charge       667 non-null    float64\n",
      " 18  Customer service calls  667 non-null    int64  \n",
      " 19  Churn                   667 non-null    bool   \n",
      "dtypes: bool(1), float64(8), int64(8), object(3)\n",
      "memory usage: 99.8+ KB\n",
      "None\n",
      "Number of missing values: \n",
      " 0\n",
      "Number of unique values: \n",
      " State                      51\n",
      "Account length            179\n",
      "Area code                   3\n",
      "International plan          2\n",
      "Voice mail plan             2\n",
      "Number vmail messages      37\n",
      "Total day minutes         562\n",
      "Total day calls           100\n",
      "Total day charge          562\n",
      "Total eve minutes         557\n",
      "Total eve calls            94\n",
      "Total eve charge          528\n",
      "Total night minutes       568\n",
      "Total night calls          96\n",
      "Total night charge        453\n",
      "Total intl minutes        132\n",
      "Total intl calls           17\n",
      "Total intl charge         132\n",
      "Customer service calls      9\n",
      "Churn                       2\n",
      "dtype: int64\n"
     ]
    }
   ],
   "source": [
    "dataoverview(df)"
   ]
  },
  {
   "cell_type": "markdown",
   "id": "c3a2eeeb-355c-4643-977b-db7f707804bf",
   "metadata": {},
   "source": [
    "### Observation \n",
    "\n",
    "- From the overview of our data our data looks clean there is no missing values.\n",
    "- we have 20 feature and 600 records\n",
    "- We have 3 categorical variables that we need to check weather it is relavant or not\n",
    "- All othe features data types are good only need some feature standardization"
   ]
  },
  {
   "cell_type": "markdown",
   "id": "06558cb1-1eb2-44a3-a858-ce4e6c687cba",
   "metadata": {},
   "source": [
    "## Data preprocessing "
   ]
  },
  {
   "cell_type": "markdown",
   "id": "811ae8eb-e2ef-4f76-88e8-3d52c975bc7a",
   "metadata": {},
   "source": [
    "### Handling missing values "
   ]
  },
  {
   "cell_type": "markdown",
   "id": "a05af4d6-7960-48d4-916c-e1f9289e3a2e",
   "metadata": {},
   "source": [
    "- We don't have any missing values or outlier in this dataset "
   ]
  },
  {
   "cell_type": "markdown",
   "id": "8c67d60e-c48f-4e5c-83e3-31728333cfc9",
   "metadata": {},
   "source": [
    "### Feature engineering "
   ]
  },
  {
   "cell_type": "markdown",
   "id": "e0a957ac-d9d3-461a-a935-79f9439b0bdb",
   "metadata": {},
   "source": [
    "#### Feature selection"
   ]
  },
  {
   "cell_type": "code",
   "execution_count": 46,
   "id": "c94d967d-4dc9-4ede-901c-85899b0f4824",
   "metadata": {
    "scrolled": true
   },
   "outputs": [],
   "source": [
    "new_df=df[['Account length','International plan', 'Voice mail plan', 'Number vmail messages', 'Total day minutes', 'Total day calls', 'Total day charge', 'Total eve minutes', 'Total eve calls', 'Total eve charge', 'Total night minutes', 'Total night calls', 'Total night charge', 'Total intl minutes', 'Total intl calls', 'Total intl charge', 'Customer service calls', 'Churn']]"
   ]
  },
  {
   "cell_type": "code",
   "execution_count": 47,
   "id": "927b80e3-e6ed-417b-a022-661be3bffd63",
   "metadata": {},
   "outputs": [
    {
     "data": {
      "text/html": [
       "<div>\n",
       "<style scoped>\n",
       "    .dataframe tbody tr th:only-of-type {\n",
       "        vertical-align: middle;\n",
       "    }\n",
       "\n",
       "    .dataframe tbody tr th {\n",
       "        vertical-align: top;\n",
       "    }\n",
       "\n",
       "    .dataframe thead th {\n",
       "        text-align: right;\n",
       "    }\n",
       "</style>\n",
       "<table border=\"1\" class=\"dataframe\">\n",
       "  <thead>\n",
       "    <tr style=\"text-align: right;\">\n",
       "      <th></th>\n",
       "      <th>Account length</th>\n",
       "      <th>International plan</th>\n",
       "      <th>Voice mail plan</th>\n",
       "      <th>Number vmail messages</th>\n",
       "      <th>Total day minutes</th>\n",
       "      <th>Total day calls</th>\n",
       "      <th>Total day charge</th>\n",
       "      <th>Total eve minutes</th>\n",
       "      <th>Total eve calls</th>\n",
       "      <th>Total eve charge</th>\n",
       "      <th>Total night minutes</th>\n",
       "      <th>Total night calls</th>\n",
       "      <th>Total night charge</th>\n",
       "      <th>Total intl minutes</th>\n",
       "      <th>Total intl calls</th>\n",
       "      <th>Total intl charge</th>\n",
       "      <th>Customer service calls</th>\n",
       "      <th>Churn</th>\n",
       "    </tr>\n",
       "  </thead>\n",
       "  <tbody>\n",
       "    <tr>\n",
       "      <th>0</th>\n",
       "      <td>117</td>\n",
       "      <td>No</td>\n",
       "      <td>No</td>\n",
       "      <td>0</td>\n",
       "      <td>184.5</td>\n",
       "      <td>97</td>\n",
       "      <td>31.37</td>\n",
       "      <td>351.6</td>\n",
       "      <td>80</td>\n",
       "      <td>29.89</td>\n",
       "      <td>215.8</td>\n",
       "      <td>90</td>\n",
       "      <td>9.71</td>\n",
       "      <td>8.7</td>\n",
       "      <td>4</td>\n",
       "      <td>2.35</td>\n",
       "      <td>1</td>\n",
       "      <td>False</td>\n",
       "    </tr>\n",
       "    <tr>\n",
       "      <th>1</th>\n",
       "      <td>65</td>\n",
       "      <td>No</td>\n",
       "      <td>No</td>\n",
       "      <td>0</td>\n",
       "      <td>129.1</td>\n",
       "      <td>137</td>\n",
       "      <td>21.95</td>\n",
       "      <td>228.5</td>\n",
       "      <td>83</td>\n",
       "      <td>19.42</td>\n",
       "      <td>208.8</td>\n",
       "      <td>111</td>\n",
       "      <td>9.40</td>\n",
       "      <td>12.7</td>\n",
       "      <td>6</td>\n",
       "      <td>3.43</td>\n",
       "      <td>4</td>\n",
       "      <td>True</td>\n",
       "    </tr>\n",
       "    <tr>\n",
       "      <th>2</th>\n",
       "      <td>161</td>\n",
       "      <td>No</td>\n",
       "      <td>No</td>\n",
       "      <td>0</td>\n",
       "      <td>332.9</td>\n",
       "      <td>67</td>\n",
       "      <td>56.59</td>\n",
       "      <td>317.8</td>\n",
       "      <td>97</td>\n",
       "      <td>27.01</td>\n",
       "      <td>160.6</td>\n",
       "      <td>128</td>\n",
       "      <td>7.23</td>\n",
       "      <td>5.4</td>\n",
       "      <td>9</td>\n",
       "      <td>1.46</td>\n",
       "      <td>4</td>\n",
       "      <td>True</td>\n",
       "    </tr>\n",
       "  </tbody>\n",
       "</table>\n",
       "</div>"
      ],
      "text/plain": [
       "   Account length International plan Voice mail plan  ...  Total intl charge  Customer service calls  Churn\n",
       "0             117                 No              No  ...               2.35                       1  False\n",
       "1              65                 No              No  ...               3.43                       4   True\n",
       "2             161                 No              No  ...               1.46                       4   True\n",
       "\n",
       "[3 rows x 18 columns]"
      ]
     },
     "execution_count": 47,
     "metadata": {},
     "output_type": "execute_result"
    }
   ],
   "source": [
    "new_df.head(3)"
   ]
  },
  {
   "cell_type": "markdown",
   "id": "8426367f-38bd-4312-bbcc-0c45918b4fd8",
   "metadata": {},
   "source": [
    "#### On-Hot encoding \n",
    "- For categorical variable "
   ]
  },
  {
   "cell_type": "code",
   "execution_count": 48,
   "id": "cd69b5bb-39cb-410e-91db-aaa0edf29970",
   "metadata": {},
   "outputs": [
    {
     "name": "stderr",
     "output_type": "stream",
     "text": [
      "C:\\Users\\iyrip\\AppData\\Local\\Temp\\ipykernel_16632\\3203187731.py:1: SettingWithCopyWarning: \n",
      "A value is trying to be set on a copy of a slice from a DataFrame.\n",
      "Try using .loc[row_indexer,col_indexer] = value instead\n",
      "\n",
      "See the caveats in the documentation: https://pandas.pydata.org/pandas-docs/stable/user_guide/indexing.html#returning-a-view-versus-a-copy\n",
      "  new_df['International plan']= new_df['International plan'].map({'Yes': 1, 'No': 0})\n",
      "C:\\Users\\iyrip\\AppData\\Local\\Temp\\ipykernel_16632\\3203187731.py:2: SettingWithCopyWarning: \n",
      "A value is trying to be set on a copy of a slice from a DataFrame.\n",
      "Try using .loc[row_indexer,col_indexer] = value instead\n",
      "\n",
      "See the caveats in the documentation: https://pandas.pydata.org/pandas-docs/stable/user_guide/indexing.html#returning-a-view-versus-a-copy\n",
      "  new_df['Voice mail plan'] = new_df['Voice mail plan'].map({'Yes': 1, 'No': 0})\n"
     ]
    }
   ],
   "source": [
    "new_df['International plan']= new_df['International plan'].map({'Yes': 1, 'No': 0})\n",
    "new_df['Voice mail plan'] = new_df['Voice mail plan'].map({'Yes': 1, 'No': 0})"
   ]
  },
  {
   "cell_type": "code",
   "execution_count": 49,
   "id": "7084982a-5b17-4ced-b2f6-0970acf77636",
   "metadata": {},
   "outputs": [
    {
     "data": {
      "text/html": [
       "<div>\n",
       "<style scoped>\n",
       "    .dataframe tbody tr th:only-of-type {\n",
       "        vertical-align: middle;\n",
       "    }\n",
       "\n",
       "    .dataframe tbody tr th {\n",
       "        vertical-align: top;\n",
       "    }\n",
       "\n",
       "    .dataframe thead th {\n",
       "        text-align: right;\n",
       "    }\n",
       "</style>\n",
       "<table border=\"1\" class=\"dataframe\">\n",
       "  <thead>\n",
       "    <tr style=\"text-align: right;\">\n",
       "      <th></th>\n",
       "      <th>Account length</th>\n",
       "      <th>International plan</th>\n",
       "      <th>Voice mail plan</th>\n",
       "      <th>Number vmail messages</th>\n",
       "      <th>Total day minutes</th>\n",
       "      <th>Total day calls</th>\n",
       "      <th>Total day charge</th>\n",
       "      <th>Total eve minutes</th>\n",
       "      <th>Total eve calls</th>\n",
       "      <th>Total eve charge</th>\n",
       "      <th>Total night minutes</th>\n",
       "      <th>Total night calls</th>\n",
       "      <th>Total night charge</th>\n",
       "      <th>Total intl minutes</th>\n",
       "      <th>Total intl calls</th>\n",
       "      <th>Total intl charge</th>\n",
       "      <th>Customer service calls</th>\n",
       "      <th>Churn</th>\n",
       "    </tr>\n",
       "  </thead>\n",
       "  <tbody>\n",
       "    <tr>\n",
       "      <th>0</th>\n",
       "      <td>117</td>\n",
       "      <td>0</td>\n",
       "      <td>0</td>\n",
       "      <td>0</td>\n",
       "      <td>184.5</td>\n",
       "      <td>97</td>\n",
       "      <td>31.37</td>\n",
       "      <td>351.6</td>\n",
       "      <td>80</td>\n",
       "      <td>29.89</td>\n",
       "      <td>215.8</td>\n",
       "      <td>90</td>\n",
       "      <td>9.71</td>\n",
       "      <td>8.7</td>\n",
       "      <td>4</td>\n",
       "      <td>2.35</td>\n",
       "      <td>1</td>\n",
       "      <td>False</td>\n",
       "    </tr>\n",
       "    <tr>\n",
       "      <th>1</th>\n",
       "      <td>65</td>\n",
       "      <td>0</td>\n",
       "      <td>0</td>\n",
       "      <td>0</td>\n",
       "      <td>129.1</td>\n",
       "      <td>137</td>\n",
       "      <td>21.95</td>\n",
       "      <td>228.5</td>\n",
       "      <td>83</td>\n",
       "      <td>19.42</td>\n",
       "      <td>208.8</td>\n",
       "      <td>111</td>\n",
       "      <td>9.40</td>\n",
       "      <td>12.7</td>\n",
       "      <td>6</td>\n",
       "      <td>3.43</td>\n",
       "      <td>4</td>\n",
       "      <td>True</td>\n",
       "    </tr>\n",
       "  </tbody>\n",
       "</table>\n",
       "</div>"
      ],
      "text/plain": [
       "   Account length  International plan  Voice mail plan  ...  Total intl charge  Customer service calls  Churn\n",
       "0             117                   0                0  ...               2.35                       1  False\n",
       "1              65                   0                0  ...               3.43                       4   True\n",
       "\n",
       "[2 rows x 18 columns]"
      ]
     },
     "execution_count": 49,
     "metadata": {},
     "output_type": "execute_result"
    }
   ],
   "source": [
    "new_df.head(2)"
   ]
  },
  {
   "cell_type": "markdown",
   "id": "1ff95011-70b7-480c-8b65-bb0d8ffe3942",
   "metadata": {},
   "source": [
    "### Spliting the data into features (X) and target (y)"
   ]
  },
  {
   "cell_type": "code",
   "execution_count": 50,
   "id": "a688e537-521a-4177-8775-56550236ff8e",
   "metadata": {},
   "outputs": [],
   "source": [
    "X =new_df.drop('Churn', axis=1)\n",
    "y =new_df['Churn']"
   ]
  },
  {
   "cell_type": "markdown",
   "id": "7b4decf0-ad6a-4d8b-aa40-57e388c276fc",
   "metadata": {},
   "source": [
    "### Scaling or normalizing features"
   ]
  },
  {
   "cell_type": "code",
   "execution_count": 51,
   "id": "cf5f0f7b-8274-499b-80be-c7a7efe96b0c",
   "metadata": {},
   "outputs": [],
   "source": [
    "scaler = StandardScaler()"
   ]
  },
  {
   "cell_type": "code",
   "execution_count": 52,
   "id": "662fc852-3b77-4ea0-a998-579fcf7a40a1",
   "metadata": {},
   "outputs": [],
   "source": [
    "scaled_data=scaler.fit_transform(X)"
   ]
  },
  {
   "cell_type": "code",
   "execution_count": 53,
   "id": "6b78ef07-83af-47bd-bd4c-c125f040e044",
   "metadata": {},
   "outputs": [],
   "source": [
    "scaled_X=pd.DataFrame(scaled_data, columns=X.columns)"
   ]
  },
  {
   "cell_type": "code",
   "execution_count": 55,
   "id": "4d0a63d9-9621-4cc3-b521-8e5657b22472",
   "metadata": {},
   "outputs": [
    {
     "data": {
      "text/html": [
       "<div>\n",
       "<style scoped>\n",
       "    .dataframe tbody tr th:only-of-type {\n",
       "        vertical-align: middle;\n",
       "    }\n",
       "\n",
       "    .dataframe tbody tr th {\n",
       "        vertical-align: top;\n",
       "    }\n",
       "\n",
       "    .dataframe thead th {\n",
       "        text-align: right;\n",
       "    }\n",
       "</style>\n",
       "<table border=\"1\" class=\"dataframe\">\n",
       "  <thead>\n",
       "    <tr style=\"text-align: right;\">\n",
       "      <th></th>\n",
       "      <th>Account length</th>\n",
       "      <th>International plan</th>\n",
       "      <th>Voice mail plan</th>\n",
       "      <th>Number vmail messages</th>\n",
       "      <th>Total day minutes</th>\n",
       "      <th>Total day calls</th>\n",
       "      <th>Total day charge</th>\n",
       "      <th>Total eve minutes</th>\n",
       "      <th>Total eve calls</th>\n",
       "      <th>Total eve charge</th>\n",
       "      <th>Total night minutes</th>\n",
       "      <th>Total night calls</th>\n",
       "      <th>Total night charge</th>\n",
       "      <th>Total intl minutes</th>\n",
       "      <th>Total intl calls</th>\n",
       "      <th>Total intl charge</th>\n",
       "      <th>Customer service calls</th>\n",
       "    </tr>\n",
       "  </thead>\n",
       "  <tbody>\n",
       "    <tr>\n",
       "      <th>0</th>\n",
       "      <td>0.347127</td>\n",
       "      <td>-0.293801</td>\n",
       "      <td>-0.628806</td>\n",
       "      <td>-0.601245</td>\n",
       "      <td>0.064036</td>\n",
       "      <td>-0.193167</td>\n",
       "      <td>0.064504</td>\n",
       "      <td>2.983872</td>\n",
       "      <td>-1.081478</td>\n",
       "      <td>2.984789</td>\n",
       "      <td>0.324092</td>\n",
       "      <td>-0.501749</td>\n",
       "      <td>0.323581</td>\n",
       "      <td>-0.548297</td>\n",
       "      <td>-0.212747</td>\n",
       "      <td>-0.547714</td>\n",
       "      <td>-0.423098</td>\n",
       "    </tr>\n",
       "    <tr>\n",
       "      <th>1</th>\n",
       "      <td>-0.927731</td>\n",
       "      <td>-0.293801</td>\n",
       "      <td>-0.628806</td>\n",
       "      <td>-0.601245</td>\n",
       "      <td>-0.934756</td>\n",
       "      <td>1.769398</td>\n",
       "      <td>-0.934501</td>\n",
       "      <td>0.506113</td>\n",
       "      <td>-0.923033</td>\n",
       "      <td>0.505504</td>\n",
       "      <td>0.183311</td>\n",
       "      <td>0.540053</td>\n",
       "      <td>0.185049</td>\n",
       "      <td>0.877350</td>\n",
       "      <td>0.593516</td>\n",
       "      <td>0.877843</td>\n",
       "      <td>1.828550</td>\n",
       "    </tr>\n",
       "  </tbody>\n",
       "</table>\n",
       "</div>"
      ],
      "text/plain": [
       "   Account length  International plan  Voice mail plan  ...  Total intl calls  Total intl charge  Customer service calls\n",
       "0        0.347127           -0.293801        -0.628806  ...         -0.212747          -0.547714               -0.423098\n",
       "1       -0.927731           -0.293801        -0.628806  ...          0.593516           0.877843                1.828550\n",
       "\n",
       "[2 rows x 17 columns]"
      ]
     },
     "execution_count": 55,
     "metadata": {},
     "output_type": "execute_result"
    }
   ],
   "source": [
    "scaled_X.head(2)"
   ]
  },
  {
   "cell_type": "markdown",
   "id": "3eaf4c93-384d-46e4-b25e-ecd324092e64",
   "metadata": {},
   "source": [
    "## Spliting the data into train and test set "
   ]
  },
  {
   "cell_type": "code",
   "execution_count": 56,
   "id": "0450f58b-4f9a-4a52-b7f0-9c4913ded835",
   "metadata": {},
   "outputs": [],
   "source": [
    "X_train, X_test, y_train, y_test = train_test_split(scaled_X, y, test_size=0.2, random_state=42)"
   ]
  },
  {
   "cell_type": "markdown",
   "id": "4ca673f8-2ebe-4f67-8a2b-5b691466d867",
   "metadata": {},
   "source": [
    "## Initializing and train the Machine Learning model"
   ]
  },
  {
   "cell_type": "code",
   "execution_count": 57,
   "id": "83fbe9fa-fcba-4546-97e2-eb65024b3178",
   "metadata": {},
   "outputs": [
    {
     "data": {
      "text/html": [
       "<style>#sk-container-id-1 {color: black;}#sk-container-id-1 pre{padding: 0;}#sk-container-id-1 div.sk-toggleable {background-color: white;}#sk-container-id-1 label.sk-toggleable__label {cursor: pointer;display: block;width: 100%;margin-bottom: 0;padding: 0.3em;box-sizing: border-box;text-align: center;}#sk-container-id-1 label.sk-toggleable__label-arrow:before {content: \"▸\";float: left;margin-right: 0.25em;color: #696969;}#sk-container-id-1 label.sk-toggleable__label-arrow:hover:before {color: black;}#sk-container-id-1 div.sk-estimator:hover label.sk-toggleable__label-arrow:before {color: black;}#sk-container-id-1 div.sk-toggleable__content {max-height: 0;max-width: 0;overflow: hidden;text-align: left;background-color: #f0f8ff;}#sk-container-id-1 div.sk-toggleable__content pre {margin: 0.2em;color: black;border-radius: 0.25em;background-color: #f0f8ff;}#sk-container-id-1 input.sk-toggleable__control:checked~div.sk-toggleable__content {max-height: 200px;max-width: 100%;overflow: auto;}#sk-container-id-1 input.sk-toggleable__control:checked~label.sk-toggleable__label-arrow:before {content: \"▾\";}#sk-container-id-1 div.sk-estimator input.sk-toggleable__control:checked~label.sk-toggleable__label {background-color: #d4ebff;}#sk-container-id-1 div.sk-label input.sk-toggleable__control:checked~label.sk-toggleable__label {background-color: #d4ebff;}#sk-container-id-1 input.sk-hidden--visually {border: 0;clip: rect(1px 1px 1px 1px);clip: rect(1px, 1px, 1px, 1px);height: 1px;margin: -1px;overflow: hidden;padding: 0;position: absolute;width: 1px;}#sk-container-id-1 div.sk-estimator {font-family: monospace;background-color: #f0f8ff;border: 1px dotted black;border-radius: 0.25em;box-sizing: border-box;margin-bottom: 0.5em;}#sk-container-id-1 div.sk-estimator:hover {background-color: #d4ebff;}#sk-container-id-1 div.sk-parallel-item::after {content: \"\";width: 100%;border-bottom: 1px solid gray;flex-grow: 1;}#sk-container-id-1 div.sk-label:hover label.sk-toggleable__label {background-color: #d4ebff;}#sk-container-id-1 div.sk-serial::before {content: \"\";position: absolute;border-left: 1px solid gray;box-sizing: border-box;top: 0;bottom: 0;left: 50%;z-index: 0;}#sk-container-id-1 div.sk-serial {display: flex;flex-direction: column;align-items: center;background-color: white;padding-right: 0.2em;padding-left: 0.2em;position: relative;}#sk-container-id-1 div.sk-item {position: relative;z-index: 1;}#sk-container-id-1 div.sk-parallel {display: flex;align-items: stretch;justify-content: center;background-color: white;position: relative;}#sk-container-id-1 div.sk-item::before, #sk-container-id-1 div.sk-parallel-item::before {content: \"\";position: absolute;border-left: 1px solid gray;box-sizing: border-box;top: 0;bottom: 0;left: 50%;z-index: -1;}#sk-container-id-1 div.sk-parallel-item {display: flex;flex-direction: column;z-index: 1;position: relative;background-color: white;}#sk-container-id-1 div.sk-parallel-item:first-child::after {align-self: flex-end;width: 50%;}#sk-container-id-1 div.sk-parallel-item:last-child::after {align-self: flex-start;width: 50%;}#sk-container-id-1 div.sk-parallel-item:only-child::after {width: 0;}#sk-container-id-1 div.sk-dashed-wrapped {border: 1px dashed gray;margin: 0 0.4em 0.5em 0.4em;box-sizing: border-box;padding-bottom: 0.4em;background-color: white;}#sk-container-id-1 div.sk-label label {font-family: monospace;font-weight: bold;display: inline-block;line-height: 1.2em;}#sk-container-id-1 div.sk-label-container {text-align: center;}#sk-container-id-1 div.sk-container {/* jupyter's `normalize.less` sets `[hidden] { display: none; }` but bootstrap.min.css set `[hidden] { display: none !important; }` so we also need the `!important` here to be able to override the default hidden behavior on the sphinx rendered scikit-learn.org. See: https://github.com/scikit-learn/scikit-learn/issues/21755 */display: inline-block !important;position: relative;}#sk-container-id-1 div.sk-text-repr-fallback {display: none;}</style><div id=\"sk-container-id-1\" class=\"sk-top-container\"><div class=\"sk-text-repr-fallback\"><pre>XGBClassifier(base_score=None, booster=None, callbacks=None,\n",
       "              colsample_bylevel=None, colsample_bynode=None,\n",
       "              colsample_bytree=None, early_stopping_rounds=None,\n",
       "              enable_categorical=False, eval_metric=None, feature_types=None,\n",
       "              gamma=None, gpu_id=None, grow_policy=None, importance_type=None,\n",
       "              interaction_constraints=None, learning_rate=None, max_bin=None,\n",
       "              max_cat_threshold=None, max_cat_to_onehot=None,\n",
       "              max_delta_step=None, max_depth=None, max_leaves=None,\n",
       "              min_child_weight=None, missing=nan, monotone_constraints=None,\n",
       "              n_estimators=100, n_jobs=None, num_parallel_tree=None,\n",
       "              predictor=None, random_state=None, ...)</pre><b>In a Jupyter environment, please rerun this cell to show the HTML representation or trust the notebook. <br />On GitHub, the HTML representation is unable to render, please try loading this page with nbviewer.org.</b></div><div class=\"sk-container\" hidden><div class=\"sk-item\"><div class=\"sk-estimator sk-toggleable\"><input class=\"sk-toggleable__control sk-hidden--visually\" id=\"sk-estimator-id-1\" type=\"checkbox\" checked><label for=\"sk-estimator-id-1\" class=\"sk-toggleable__label sk-toggleable__label-arrow\">XGBClassifier</label><div class=\"sk-toggleable__content\"><pre>XGBClassifier(base_score=None, booster=None, callbacks=None,\n",
       "              colsample_bylevel=None, colsample_bynode=None,\n",
       "              colsample_bytree=None, early_stopping_rounds=None,\n",
       "              enable_categorical=False, eval_metric=None, feature_types=None,\n",
       "              gamma=None, gpu_id=None, grow_policy=None, importance_type=None,\n",
       "              interaction_constraints=None, learning_rate=None, max_bin=None,\n",
       "              max_cat_threshold=None, max_cat_to_onehot=None,\n",
       "              max_delta_step=None, max_depth=None, max_leaves=None,\n",
       "              min_child_weight=None, missing=nan, monotone_constraints=None,\n",
       "              n_estimators=100, n_jobs=None, num_parallel_tree=None,\n",
       "              predictor=None, random_state=None, ...)</pre></div></div></div></div></div>"
      ],
      "text/plain": [
       "XGBClassifier(base_score=None, booster=None, callbacks=None,\n",
       "              colsample_bylevel=None, colsample_bynode=None,\n",
       "              colsample_bytree=None, early_stopping_rounds=None,\n",
       "              enable_categorical=False, eval_metric=None, feature_types=None,\n",
       "              gamma=None, gpu_id=None, grow_policy=None, importance_type=None,\n",
       "              interaction_constraints=None, learning_rate=None, max_bin=None,\n",
       "              max_cat_threshold=None, max_cat_to_onehot=None,\n",
       "              max_delta_step=None, max_depth=None, max_leaves=None,\n",
       "              min_child_weight=None, missing=nan, monotone_constraints=None,\n",
       "              n_estimators=100, n_jobs=None, num_parallel_tree=None,\n",
       "              predictor=None, random_state=None, ...)"
      ]
     },
     "execution_count": 57,
     "metadata": {},
     "output_type": "execute_result"
    }
   ],
   "source": [
    "model=XGBClassifier()\n",
    "\n",
    "model.fit(X_train, y_train)"
   ]
  },
  {
   "cell_type": "markdown",
   "id": "57e4e6ef-d0e9-4504-81f1-9d5f85922bd5",
   "metadata": {},
   "source": [
    "## Making the prediction on test data"
   ]
  },
  {
   "cell_type": "code",
   "execution_count": 58,
   "id": "eecffd7f-29e9-4623-8e8b-73bb301d38ce",
   "metadata": {},
   "outputs": [],
   "source": [
    "prediction = model.predict(X_test)"
   ]
  },
  {
   "cell_type": "markdown",
   "id": "984bc2ee-df2d-4df6-bbe7-9cffa745eccd",
   "metadata": {},
   "source": [
    "## Model Evaluation"
   ]
  },
  {
   "cell_type": "markdown",
   "id": "21d7df8a-57b7-41cd-adaf-b60dfeef7018",
   "metadata": {},
   "source": [
    "##### Confusion metrix"
   ]
  },
  {
   "cell_type": "code",
   "execution_count": 60,
   "id": "d36cdc69-5db8-4e56-a649-00b6228d5c9c",
   "metadata": {},
   "outputs": [],
   "source": [
    "confusion= confusion_matrix(y_test, prediction)"
   ]
  },
  {
   "cell_type": "markdown",
   "id": "d24221ff-6dc0-4538-9c87-b2e3addbe686",
   "metadata": {},
   "source": [
    "##### Accuracy, Classification report "
   ]
  },
  {
   "cell_type": "code",
   "execution_count": 61,
   "id": "8af24660-d50c-4ee3-8e82-b3602a8c8ade",
   "metadata": {},
   "outputs": [],
   "source": [
    "accuracy_score= accuracy_score(y_test, prediction)\n",
    "report = classification_report(y_test, prediction)"
   ]
  },
  {
   "cell_type": "code",
   "execution_count": 64,
   "id": "3055918b-ca47-4e0f-ad13-1a539023d87b",
   "metadata": {},
   "outputs": [
    {
     "name": "stdout",
     "output_type": "stream",
     "text": [
      "Accuracy: \n",
      " 0.9626865671641791\n",
      "Confusion metrix: \n",
      " [[117   2]\n",
      " [  3  12]]\n",
      "Classification report: \n",
      "               precision    recall  f1-score   support\n",
      "\n",
      "       False       0.97      0.98      0.98       119\n",
      "        True       0.86      0.80      0.83        15\n",
      "\n",
      "    accuracy                           0.96       134\n",
      "   macro avg       0.92      0.89      0.90       134\n",
      "weighted avg       0.96      0.96      0.96       134\n",
      "\n"
     ]
    }
   ],
   "source": [
    "print('Accuracy: \\n',accuracy_score)\n",
    "print('Confusion metrix: \\n',confusion)\n",
    "print('Classification report: \\n',report)"
   ]
  },
  {
   "cell_type": "markdown",
   "id": "56f108fe-82c0-45a3-a253-71ce4695025a",
   "metadata": {},
   "source": [
    "## Perform K-fold cross validation"
   ]
  },
  {
   "cell_type": "code",
   "execution_count": 69,
   "id": "b70f25ab-2083-4071-a994-7731869eeda5",
   "metadata": {},
   "outputs": [],
   "source": [
    "cv_scores=cross_val_score(model, scaled_X, y, cv=5,scoring= 'accuracy')"
   ]
  },
  {
   "cell_type": "code",
   "execution_count": 70,
   "id": "73a14255-437c-4571-908c-15aae48f0ad2",
   "metadata": {},
   "outputs": [
    {
     "name": "stdout",
     "output_type": "stream",
     "text": [
      "Cross Validation score: \n",
      " [0.8880597  0.93283582 0.95488722 0.90977444 0.94736842]\n"
     ]
    }
   ],
   "source": [
    "print('Cross Validation score: \\n', cv_scores)"
   ]
  },
  {
   "cell_type": "code",
   "execution_count": 72,
   "id": "341d6492-a3db-43d4-bac6-5b97e71887a0",
   "metadata": {},
   "outputs": [],
   "source": [
    "avarage=np.mean(cv_scores)"
   ]
  },
  {
   "cell_type": "code",
   "execution_count": 73,
   "id": "c95aa555-2f20-4e39-b531-518fdd79cc36",
   "metadata": {},
   "outputs": [
    {
     "name": "stdout",
     "output_type": "stream",
     "text": [
      "Avarage score: \n",
      " 0.926585119515206\n"
     ]
    }
   ],
   "source": [
    "print('Avarage score: \\n',avarage)"
   ]
  },
  {
   "cell_type": "markdown",
   "id": "986e7e5f-8650-4aee-b746-a5e19fefecfc",
   "metadata": {},
   "source": [
    "## Vizualising the model performance"
   ]
  },
  {
   "cell_type": "markdown",
   "id": "7bdb6717-dfb9-454b-a262-e650315a860b",
   "metadata": {},
   "source": [
    "##### Get the probability scores for the positive class"
   ]
  },
  {
   "cell_type": "code",
   "execution_count": 74,
   "id": "fd12c077-8537-455b-b2b6-28da0291ad72",
   "metadata": {},
   "outputs": [],
   "source": [
    "y_score= model.predict_proba(X_test)[:, 0]"
   ]
  },
  {
   "cell_type": "markdown",
   "id": "6a5f2bb7-79d7-4087-8c57-f10c6f453dd6",
   "metadata": {},
   "source": [
    "##### Consusion metrix"
   ]
  },
  {
   "cell_type": "code",
   "execution_count": 75,
   "id": "e0f5df40-efc9-4199-bc8e-6b20d6d6c7c9",
   "metadata": {},
   "outputs": [
    {
     "data": {
      "image/png": "[encoded data removed]",
      "text/plain": [
       "<Figure size 640x480 with 2 Axes>"
      ]
     },
     "metadata": {},
     "output_type": "display_data"
    }
   ],
   "source": [
    "sns.heatmap(confusion, annot=True, fmt='d', cmap='Blues')\n",
    "plt.xlabel('Predicted')\n",
    "plt.ylabel('Actual')\n",
    "plt.show()"
   ]
  },
  {
   "cell_type": "markdown",
   "id": "dc328cf6-de54-4f1e-b989-d8600e4cb358",
   "metadata": {},
   "source": [
    "##### ROC Curve and AUC-ROC"
   ]
  },
  {
   "cell_type": "code",
   "execution_count": 77,
   "id": "ae88e17b-6248-47ec-a2e9-d486c0609ccd",
   "metadata": {},
   "outputs": [
    {
     "data": {
      "image/png": "[encoded data removed]",
      "text/plain": [
       "<Figure size 640x480 with 1 Axes>"
      ]
     },
     "metadata": {},
     "output_type": "display_data"
    }
   ],
   "source": [
    "fpr, tpr, _ = roc_curve(y_test, y_score)\n",
    "roc_auc = auc(fpr, tpr)\n",
    "\n",
    "plt.figure()\n",
    "plt.plot(fpr, tpr, color='darkorange', lw=2, label='ROC curve (area = %0.2f)' % roc_auc)\n",
    "plt.plot([0, 1], [0, 1], color='navy', lw=2, linestyle='--')\n",
    "plt.xlim([0.0, 1.0])\n",
    "plt.ylim([0.0, 1.05])\n",
    "plt.xlabel('False Positive Rate')\n",
    "plt.ylabel('True Positive Rate')\n",
    "plt.title('Receiver Operating Characteristic')\n",
    "plt.legend(loc='lower right')\n",
    "plt.show()"
   ]
  },
  {
   "cell_type": "markdown",
   "id": "fc870ee7-80ef-44de-901d-9c60f50c09da",
   "metadata": {},
   "source": [
    "##### Precision-Recall Curve"
   ]
  },
  {
   "cell_type": "code",
   "execution_count": 80,
   "id": "5c4a325f-8e0d-4a06-9777-53573a839a98",
   "metadata": {},
   "outputs": [
    {
     "data": {
      "image/png": "[encoded data removed]",
      "text/plain": [
       "<Figure size 640x480 with 1 Axes>"
      ]
     },
     "metadata": {},
     "output_type": "display_data"
    }
   ],
   "source": [
    "precision, recall, _ = precision_recall_curve(y_test, y_score)\n",
    "plt.step(recall, precision, color='b', where='post')\n",
    "plt.xlabel('Recall')\n",
    "plt.ylabel('Precision')\n",
    "plt.ylim([0.0, 1.05])\n",
    "plt.xlim([0.0, 1.0])\n",
    "plt.title('Precision-Recall curve')\n",
    "plt.show()"
   ]
  },
  {
   "cell_type": "markdown",
   "id": "1f2e9260-caac-4d17-aa64-d33a22e8986f",
   "metadata": {},
   "source": [
    "## Conclusion on XGBoost Classifier \n",
    "\n",
    "- **Accuracy and Cross-Validation:**\r\n",
    "\r\n",
    "The model demonstrates a high level of accuracy, with an average score of approximatel**y 0.92**66 across five-fold cross-validation. This indicates that the model is capable of making accurate predictions on the given datase\n",
    "t- **.\r\n",
    "Confusion Matrix and Classification Repo**rt:\r\n",
    "\r\n",
    "The confusion matrix and classification report provide a detailed breakdown of the model's performance. It exhibits a strong ability to correctly classify instances, particularly for** the \"F**alse\" cl\n",
    "- ass. However, there's some room for improvement in terms of recall for** the \"**True\" c\n",
    "l- ass.\r\n",
    "Generalization and Stability:\r\n",
    "\r\n",
    "The cross-validation scores indicate that the model's performance is consistent across different subsets of the dataset, suggesting good generalization and stability. This is an important characteristic for a reliable machine learnin\n",
    "g-  model.\r\n",
    "Future Improvements:\r\n",
    "\r\n",
    "While the model's performance is strong, there is an opportunity to further enhance its precision and recall, particular**ly for** the \"Tr- - ue\" class. This can be achieved through feature engineering, hyperparameter tuning, or exploring more advanced machine learning \n",
    "at-  was trained.\r\n",
    "Robust Evaluation:\r\n",
    "\r\n",
    "The use of cross-validation ensures that the model's performance is not overfitted to the specific dataset, making the evaluation robust and reliable."
   ]
  },
  {
   "cell_type": "markdown",
   "id": "3dd12410-2066-4675-98e3-bd1e67f8c7a1",
   "metadata": {},
   "source": [
    "### Save our first model"
   ]
  },
  {
   "cell_type": "code",
   "execution_count": 92,
   "id": "ee8ec05a-7211-421f-817c-4447f4f0902b",
   "metadata": {},
   "outputs": [],
   "source": [
    "import joblib"
   ]
  },
  {
   "cell_type": "code",
   "execution_count": 93,
   "id": "36bce9af-4bff-4dea-a510-7c6c960608c4",
   "metadata": {},
   "outputs": [
    {
     "data": {
      "text/plain": [
       "['first_Xgboost_classifier.pkl']"
      ]
     },
     "execution_count": 93,
     "metadata": {},
     "output_type": "execute_result"
    }
   ],
   "source": [
    "joblib.dump(model, 'first_Xgboost_classifier.pkl')"
   ]
  },
  {
   "cell_type": "markdown",
   "id": "beb1ddef-618f-491a-9ab6-e9035b02f3bd",
   "metadata": {},
   "source": [
    "## Hyperparameter tuning for XGBoost Classifier "
   ]
  },
  {
   "cell_type": "code",
   "execution_count": 85,
   "id": "519e6906-7964-492f-9cfa-c67d8b92d598",
   "metadata": {},
   "outputs": [],
   "source": [
    "# Define the hyperparameter grid for XGBoost\n",
    "param_grid = {\n",
    "    'learning_rate': [0.01, 0.1, 0.2],\n",
    "    'n_estimators': [100, 200, 300],\n",
    "    'max_depth': [3, 4, 5],\n",
    "    'min_child_weight': [1, 2, 3],\n",
    "    'subsample': [0.8, 0.9, 1.0],\n",
    "    'colsample_bytree': [0.8, 0.9, 1.0],\n",
    "    'gamma': [0, 0.1, 0.2],\n",
    "    'lambda': [1, 2, 3]\n",
    "}"
   ]
  },
  {
   "cell_type": "code",
   "execution_count": 90,
   "id": "b9b42b32-ea3d-4707-b027-1daf66fd3ced",
   "metadata": {},
   "outputs": [],
   "source": [
    "# Perform grid search with cross-validation"
   ]
  },
  {
   "cell_type": "code",
   "execution_count": 95,
   "id": "9f846597-0e07-410c-bc71-3e70f2653706",
   "metadata": {},
   "outputs": [],
   "source": [
    "\n",
    "grid_search= GridSearchCV(estimator= XGBClassifier(), param_grid=param_grid, scoring= 'f1',n_jobs=-1, cv=5)"
   ]
  },
  {
   "cell_type": "code",
   "execution_count": 97,
   "id": "099ecf7e-2e42-4f16-a7c1-6cc3f89d27bb",
   "metadata": {
    "scrolled": true
   },
   "outputs": [],
   "source": [
    "#grid_search.fit(X_train, y_train)"
   ]
  },
  {
   "cell_type": "code",
   "execution_count": null,
   "id": "2f11f2b6-1036-4612-b3f9-739e2890611c",
   "metadata": {},
   "outputs": [],
   "source": [
    "# Get the best hyperparameters\n",
    "best_parms =grid_search.best_parms_\n",
    "best_score =grid_search.best_score_"
   ]
  },
  {
   "cell_type": "code",
   "execution_count": null,
   "id": "467e985f-fe6e-4525-9996-64bd6da89955",
   "metadata": {},
   "outputs": [],
   "source": [
    "# Train the final model with the best hyperparameters\n",
    "\n",
    "final_model = xgb.XGBClassifier(objective='binary:logistic', eval_metric='logloss', **best_parms)\n",
    "final_model.fit(X_train, y_train)"
   ]
  },
  {
   "cell_type": "code",
   "execution_count": null,
   "id": "625ea07e-d450-4a6a-8306-a540a33616f0",
   "metadata": {},
   "outputs": [],
   "source": [
    "# Evaluate on the test set\n",
    "\n",
    "test_"
   ]
  },
  {
   "cell_type": "code",
   "execution_count": null,
   "id": "37e2a712-464c-4fed-8d5d-622bf6c3e040",
   "metadata": {},
   "outputs": [],
   "source": []
  }
 ],
 "metadata": {
  "kernelspec": {
   "display_name": "Python 3 (ipykernel)",
   "language": "python",
   "name": "python3"
  },
  "language_info": {
   "codemirror_mode": {
    "name": "ipython",
    "version": 3
   },
   "file_extension": ".py",
   "mimetype": "text/x-python",
   "name": "python",
   "nbconvert_exporter": "python",
   "pygments_lexer": "ipython3",
   "version": "3.8.8"
  }
 },
 "nbformat": 4,
 "nbformat_minor": 5
}
